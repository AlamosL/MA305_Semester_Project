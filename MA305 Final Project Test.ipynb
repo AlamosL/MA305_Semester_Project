{
 "cells": [
  {
   "cell_type": "code",
   "execution_count": 2,
   "id": "7d3f3998",
   "metadata": {},
   "outputs": [],
   "source": [
    "import pandas as pd"
   ]
  },
  {
   "cell_type": "code",
   "execution_count": 15,
   "id": "4806a673",
   "metadata": {
    "scrolled": true
   },
   "outputs": [
    {
     "name": "stdout",
     "output_type": "stream",
     "text": [
      "                              0      1\n",
      "0      ILSVRC2012_test_00000003      1\n",
      "1      ILSVRC2012_test_00000004      2\n",
      "2      ILSVRC2012_test_00000013      3\n",
      "3      ILSVRC2012_test_00000014      4\n",
      "4      ILSVRC2012_test_00000015      5\n",
      "...                         ...    ...\n",
      "65495  ILSVRC2017_test_00005496  65496\n",
      "65496  ILSVRC2017_test_00005497  65497\n",
      "65497  ILSVRC2017_test_00005498  65498\n",
      "65498  ILSVRC2017_test_00005499  65499\n",
      "65499  ILSVRC2017_test_00005500  65500\n",
      "\n",
      "[65500 rows x 2 columns]\n"
     ]
    }
   ],
   "source": [
    "table_imageValues = pd.read_csv(r\"C:\\Users\\rhanr\\OneDrive - Embry-Riddle Aeronautical University\\Riddle\\SPRING 2022\\MA 305\\Final Project\\ILSVRC\\ImageSets\\DET\\test.txt\",sep=\" \",header=None)\n",
    "print(table_imageValues)"
   ]
  },
  {
   "cell_type": "code",
   "execution_count": null,
   "id": "6cf1e9b7",
   "metadata": {},
   "outputs": [],
   "source": []
  }
 ],
 "metadata": {
  "kernelspec": {
   "display_name": "Python 3 (ipykernel)",
   "language": "python",
   "name": "python3"
  },
  "language_info": {
   "codemirror_mode": {
    "name": "ipython",
    "version": 3
   },
   "file_extension": ".py",
   "mimetype": "text/x-python",
   "name": "python",
   "nbconvert_exporter": "python",
   "pygments_lexer": "ipython3",
   "version": "3.9.7"
  }
 },
 "nbformat": 4,
 "nbformat_minor": 5
}
